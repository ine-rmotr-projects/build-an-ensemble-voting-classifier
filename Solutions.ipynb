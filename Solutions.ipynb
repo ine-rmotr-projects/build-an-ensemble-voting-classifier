{
 "cells": [
  {
   "cell_type": "markdown",
   "metadata": {
    "slideshow": {
     "slide_type": "slide"
    }
   },
   "source": [
    "<div style=\"position: relative; text-align: right;\">\n",
    "<img src=\"https://user-images.githubusercontent.com/7065401/98614301-dcf01780-22d6-11eb-9c8f-65ebfceac6f6.png\" style=\"width: 130px; display: inline-block;\"></img>\n",
    "\n",
    "<img src=\"https://user-images.githubusercontent.com/7065401/98864025-08deda80-2448-11eb-9600-22aa17884cdf.png\" style=\"height: 100%; max-height: inherit; position: absolute; top: 20%; left: 0px;\"></img>\n",
    "<br>\n",
    "\n",
    "<h2 style=\"font-weight: bold;\">\n",
    "    Kristin Day\n",
    "</h2>\n",
    "\n",
    "<h3 style=\"color: #ef7d22; margin-top: 0.8em\">\n",
    "    Data Scientist\n",
    "</h3>\n",
    "<hr>\n",
    "<br><br>\n",
    "\n",
    "<p style=\"font-size: 80%; text-align: right; margin: 10px 0px;\">\n",
    "    yokristinday@gmail.com\n",
    "</p>\n",
    "<p style=\"font-size: 80%; text-align: right; margin: 10px 0px;\">\n",
    "    linkedin.com/in/kristin-day-300306a9\n",
    "</p>\n",
    "\n",
    "</div>\n",
    "\n",
    "<br><br><br>"
   ]
  },
  {
   "cell_type": "markdown",
   "metadata": {
    "slideshow": {
     "slide_type": "slide"
    }
   },
   "source": [
    "<div style=\"position: relative;\">\n",
    "<img src=\"https://user-images.githubusercontent.com/7065401/98728503-5ab82f80-2378-11eb-9c79-adeb308fc647.png\"></img>\n",
    "\n",
    "<h1 style=\"color: white; position: absolute; top:30%; left:10%;\">\n",
    "    Ensembles & Random Forests\n",
    "</h1>\n",
    "\n",
    "<h3 style=\"color: #ef7d22; font-weight: normal; position: absolute; top:43%; left:10%;\">\n",
    "    Kristin Day\n",
    "</h3>\n",
    "</div>"
   ]
  },
  {
   "cell_type": "markdown",
   "metadata": {
    "slideshow": {
     "slide_type": "slide"
    }
   },
   "source": [
    "<div style=\"width: 100%; background-color: #222; text-align: center\">\n",
    "<br><br>\n",
    "\n",
    "<h1 style=\"color: white; font-weight: bold;\">\n",
    "    Project\n",
    "</h1>\n",
    "    \n",
    "<h3 style=\"color: #ef7d22; font-weight: normal;\">\n",
    "    Build an ensemble voting classifier\n",
    "</h3>\n",
    "\n",
    "<br><br> \n",
    "</div>\n",
    "\n",
    "![orange-divider](https://user-images.githubusercontent.com/7065401/98619088-44ab6000-22e1-11eb-8f6d-5532e68ab274.png)"
   ]
  },
  {
   "cell_type": "code",
   "execution_count": 1,
   "metadata": {},
   "outputs": [],
   "source": [
    "# Import packages\n",
    "import numpy as np\n",
    "import pandas as pd\n",
    "\n",
    "import matplotlib.pyplot as plt\n",
    "\n",
    "from sklearn.datasets import load_iris\n",
    "from sklearn.linear_model import LogisticRegression\n",
    "from sklearn.naive_bayes import GaussianNB\n",
    "from sklearn.neural_network import MLPClassifier\n",
    "from sklearn.tree import DecisionTreeClassifier\n",
    "from sklearn.ensemble import StackingClassifier,VotingClassifier\n",
    "from sklearn.model_selection import train_test_split\n",
    "from sklearn.preprocessing import Normalizer,StandardScaler\n",
    "\n",
    "import warnings\n",
    "warnings.filterwarnings('ignore')"
   ]
  },
  {
   "cell_type": "code",
   "execution_count": 2,
   "metadata": {},
   "outputs": [
    {
     "data": {
      "text/plain": [
       "DecisionTreeClassifier(random_state=42)"
      ]
     },
     "execution_count": 2,
     "metadata": {},
     "output_type": "execute_result"
    }
   ],
   "source": [
    "X, y = load_iris(return_X_y=True)\n",
    "\n",
    "# Split data into test and train - stratify on y\n",
    "X_train,X_test,y_train,y_test = train_test_split(X,y,test_size=0.2,stratify=y,random_state=42)\n",
    "\n",
    "# Normalize and Scale numeric data\n",
    "norm = Normalizer()\n",
    "scaler = StandardScaler()\n",
    "\n",
    "X_train_norm = norm.fit_transform(X_train)\n",
    "X_train_scaled = scaler.fit_transform(X_train_norm)\n",
    "\n",
    "X_test_norm = norm.transform(X_test)\n",
    "X_test_scaled = scaler.transform(X_test_norm)\n",
    "\n",
    "# Train classifiers\n",
    "nbc = GaussianNB()\n",
    "mlpc = MLPClassifier(random_state=42)\n",
    "dtc = DecisionTreeClassifier(random_state=42)\n",
    "\n",
    "nbc.fit(X_train_scaled, y_train)\n",
    "mlpc.fit(X_train_scaled, y_train)\n",
    "dtc.fit(X_train_scaled, y_train)"
   ]
  },
  {
   "cell_type": "code",
   "execution_count": 3,
   "metadata": {},
   "outputs": [
    {
     "data": {
      "text/plain": [
       "VotingClassifier(estimators=[('nbc', GaussianNB()),\n",
       "                             ('mlpc', MLPClassifier(random_state=42)),\n",
       "                             ('dtc', DecisionTreeClassifier(random_state=42))],\n",
       "                 n_jobs=-1, voting='soft')"
      ]
     },
     "execution_count": 3,
     "metadata": {},
     "output_type": "execute_result"
    }
   ],
   "source": [
    "eclf = VotingClassifier([('nbc', nbc), ('mlpc', mlpc), ('dtc', dtc)],voting='soft',n_jobs=-1)\n",
    "eclf.fit(X_train_scaled, y_train)"
   ]
  },
  {
   "cell_type": "code",
   "execution_count": 5,
   "metadata": {},
   "outputs": [
    {
     "data": {
      "text/plain": [
       "(0.975, 0.9583333333333334, 1.0)"
      ]
     },
     "execution_count": 5,
     "metadata": {},
     "output_type": "execute_result"
    }
   ],
   "source": [
    "# Scores for training accuracy\n",
    "nbc.score(X_train_scaled,y_train),mlpc.score(X_train_scaled,y_train),dtc.score(X_train_scaled,y_train)"
   ]
  },
  {
   "cell_type": "code",
   "execution_count": 6,
   "metadata": {},
   "outputs": [
    {
     "data": {
      "text/plain": [
       "(0.9666666666666667, 0.9666666666666667, 0.9666666666666667)"
      ]
     },
     "execution_count": 6,
     "metadata": {},
     "output_type": "execute_result"
    }
   ],
   "source": [
    "nbc.score(X_test_scaled,y_test), mlpc.score(X_test_scaled,y_test), dtc.score(X_test_scaled,y_test)"
   ]
  },
  {
   "cell_type": "code",
   "execution_count": 7,
   "metadata": {},
   "outputs": [
    {
     "data": {
      "text/plain": [
       "(0.9833333333333333, 0.9666666666666667)"
      ]
     },
     "execution_count": 7,
     "metadata": {},
     "output_type": "execute_result"
    }
   ],
   "source": [
    "eclf.score(X_train_scaled,y_train), eclf.score(X_test_scaled,y_test)"
   ]
  },
  {
   "cell_type": "code",
   "execution_count": 8,
   "metadata": {},
   "outputs": [
    {
     "data": {
      "text/plain": [
       "0.8583333333333333"
      ]
     },
     "execution_count": 8,
     "metadata": {},
     "output_type": "execute_result"
    }
   ],
   "source": [
    "# Stacking\n",
    "# Create data for stacking\n",
    "df_stack_train = pd.DataFrame()\n",
    "df_stack_train['nbc'] = [p[1] for p in nbc.predict_proba(X_train_scaled)]\n",
    "df_stack_train['mlpc'] = [p[1] for p in mlpc.predict_proba(X_train_scaled)]\n",
    "df_stack_train['dtc'] = [p[1] for p in dtc.predict_proba(X_train_scaled)]\n",
    "df_stack_train['target'] = y_train\n",
    "\n",
    "# Fit a logistic regression model to the data\n",
    "mlpc_ens = MLPClassifier(random_state=42)\n",
    "X_train_stack = df_stack_train[['nbc','mlpc','dtc']].copy()\n",
    "mlpc_ens.fit(X_train_stack,y_train)\n",
    "\n",
    "# Get your training accuracy\n",
    "mlpc_ens.score(X_train_stack,y_train)"
   ]
  },
  {
   "cell_type": "code",
   "execution_count": 9,
   "metadata": {},
   "outputs": [
    {
     "data": {
      "text/plain": [
       "0.8666666666666667"
      ]
     },
     "execution_count": 9,
     "metadata": {},
     "output_type": "execute_result"
    }
   ],
   "source": [
    "# Create test data for stacking\n",
    "df_stack_test = pd.DataFrame()\n",
    "df_stack_test['nbc'] = [p[1] for p in nbc.predict_proba(X_test_scaled)]\n",
    "df_stack_test['mlpc'] = [p[1] for p in mlpc.predict_proba(X_test_scaled)]\n",
    "df_stack_test['dtc'] = [p[1] for p in dtc.predict_proba(X_test_scaled)]\n",
    "df_stack_test['target'] = y_test\n",
    "\n",
    "# Fit a logistic regression model to the data\n",
    "X_test_stack = df_stack_test[['nbc','mlpc','dtc']].copy()\n",
    "\n",
    "# Get your test accuracy\n",
    "mlpc_ens.score(X_test_stack,y_test)"
   ]
  },
  {
   "cell_type": "code",
   "execution_count": 10,
   "metadata": {},
   "outputs": [
    {
     "data": {
      "text/plain": [
       "(0.9833333333333333, 0.9666666666666667)"
      ]
     },
     "execution_count": 10,
     "metadata": {},
     "output_type": "execute_result"
    }
   ],
   "source": [
    "# You can also stack using the sklearn library\n",
    "# The benefit of using the StackingClassifier is that is uses cross-validation on the base layers \n",
    "# which should help with overfitting\n",
    "estimators = [\n",
    "    ('nbc',GaussianNB()),\n",
    "    ('mlpc',MLPClassifier(random_state=42)),\n",
    "    ('dtc',DecisionTreeClassifier(random_state=42))\n",
    "]\n",
    "stack_clf = StackingClassifier(\n",
    "    estimators=estimators,\n",
    "    final_estimator=MLPClassifier(random_state=42),\n",
    "    cv=3)\n",
    "stack_clf.fit(X_train_scaled,y_train)\n",
    "\n",
    "# Get your train and test accuracy\n",
    "stack_clf.score(X_train_scaled,y_train),stack_clf.score(X_test_scaled,y_test)"
   ]
  },
  {
   "cell_type": "markdown",
   "metadata": {
    "slideshow": {
     "slide_type": "slide"
    }
   },
   "source": [
    "<div style=\"position: relative;\">\n",
    "<img src=\"https://user-images.githubusercontent.com/7065401/98729912-57be3e80-237a-11eb-80e4-233ac344b391.png\"></img>\n",
    "</div>"
   ]
  }
 ],
 "metadata": {
  "environment": {
   "name": "tf2-gpu.2-3.m65",
   "type": "gcloud",
   "uri": "gcr.io/deeplearning-platform-release/tf2-gpu.2-3:m65"
  },
  "kernelspec": {
   "display_name": "Python 3",
   "language": "python",
   "name": "python3"
  },
  "language_info": {
   "codemirror_mode": {
    "name": "ipython",
    "version": 3
   },
   "file_extension": ".py",
   "mimetype": "text/x-python",
   "name": "python",
   "nbconvert_exporter": "python",
   "pygments_lexer": "ipython3",
   "version": "3.8.6"
  }
 },
 "nbformat": 4,
 "nbformat_minor": 4
}
